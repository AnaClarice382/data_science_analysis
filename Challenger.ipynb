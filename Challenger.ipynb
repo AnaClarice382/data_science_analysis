{
  "nbformat": 4,
  "nbformat_minor": 0,
  "metadata": {
    "colab": {
      "name": "Challenger",
      "provenance": [],
      "collapsed_sections": [
        "eK9RdlvMpscT"
      ],
      "toc_visible": true,
      "history_visible": true,
      "authorship_tag": "ABX9TyOBnuodX30TjdVbPar3wuN0",
      "include_colab_link": true
    },
    "kernelspec": {
      "name": "python3",
      "display_name": "Python 3"
    },
    "language_info": {
      "name": "python"
    }
  },
  "cells": [
    {
      "cell_type": "markdown",
      "metadata": {
        "id": "view-in-github",
        "colab_type": "text"
      },
      "source": [
        "<a href=\"https://colab.research.google.com/github/AnaClarice382/data_science_analysis/blob/master/Challenger.ipynb\" target=\"_parent\"><img src=\"https://colab.research.google.com/assets/colab-badge.svg\" alt=\"Open In Colab\"/></a>"
      ]
    },
    {
      "cell_type": "markdown",
      "metadata": {
        "id": "CcZDVRelIqQl"
      },
      "source": [
        "### Regressão logística binária\n",
        "\n",
        " A regressão logistica é uma técnica estatistica para estimar a probabilidade de um evento ocorrer ou não.\n",
        "\n",
        "A probabilidade de ocorrência do evento é calculada por:\n",
        "\n",
        "![Screenshot from 2021-09-06 14-35-47.png](data:image/png;base64,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)\n",
        "\n",
        "onde Z é igual a soma do alpha (intercept) e os betas \n",
        "\n",
        "![Screenshot from 2021-09-06 14-45-59.png](data:image/png;base64,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)\n",
        "\n",
        "Os parametros são estimados a partir do método de Máxima Verossimilhança"
      ]
    },
    {
      "cell_type": "markdown",
      "metadata": {
        "id": "qBRuShDym3M9"
      },
      "source": [
        "## Problema\n",
        "\n",
        "Vamos analisar os dados de testes do voo Challenger, e estimar quais eram as chances de ocorrer falha no dia do lançamento.\n",
        "\n",
        "### Hipoteses\n",
        "\n",
        "*   Será que a temperatura no dia do teste tem relação com a quantidade de desgastes?\n",
        "*   Será que a pressão tem relação com a quantidade de desgastes?"
      ]
    },
    {
      "cell_type": "markdown",
      "metadata": {
        "id": "eK9RdlvMpscT"
      },
      "source": [
        "### R"
      ]
    },
    {
      "cell_type": "code",
      "metadata": {
        "colab": {
          "base_uri": "https://localhost:8080/"
        },
        "id": "tx-w47LnkZlx",
        "outputId": "9c5fb6c2-5a01-48b7-a328-80f9877d0e6f"
      },
      "source": [
        "%load_ext rpy2.ipython"
      ],
      "execution_count": 423,
      "outputs": [
        {
          "output_type": "stream",
          "name": "stdout",
          "text": [
            "The rpy2.ipython extension is already loaded. To reload it, use:\n",
            "  %reload_ext rpy2.ipython\n"
          ]
        }
      ]
    },
    {
      "cell_type": "code",
      "metadata": {
        "colab": {
          "base_uri": "https://localhost:8080/"
        },
        "id": "W4kXc0AOktsL",
        "outputId": "e077bbd2-ec66-4cab-fa99-79d0eb5ace3a"
      },
      "source": [
        "%%R\n",
        "load(\"challenger.RData\", verbose=T) #verbose é para verificar com qual nome ele carregou"
      ],
      "execution_count": 424,
      "outputs": [
        {
          "output_type": "stream",
          "name": "stdout",
          "text": [
            "Loading objects:\n",
            "  challenger\n"
          ]
        }
      ]
    },
    {
      "cell_type": "code",
      "metadata": {
        "id": "8B2zEtIlo3A-"
      },
      "source": [
        "%%R\n",
        "ls()\n",
        "challenger_to_csv <- challenger #recupero o dataframe que foi carregado"
      ],
      "execution_count": 425,
      "outputs": []
    },
    {
      "cell_type": "code",
      "metadata": {
        "id": "OsET9IxPkbcX"
      },
      "source": [
        "%%R\n",
        "write.csv(challenger_to_csv,\"/content/challenger.csv\", row.names = T) #escrevo ele como csv"
      ],
      "execution_count": 426,
      "outputs": []
    },
    {
      "cell_type": "markdown",
      "metadata": {
        "id": "OfZ1owtgpxpC"
      },
      "source": [
        "### Python"
      ]
    },
    {
      "cell_type": "code",
      "metadata": {
        "id": "nyX5yTURkgOJ"
      },
      "source": [
        "import pandas as pd\n",
        "import numpy as np\n",
        "from sklearn.linear_model import LogisticRegression\n",
        "from statsmodels.base.model import GenericLikelihoodModel\n",
        "from statsmodels.discrete.discrete_model import Logit"
      ],
      "execution_count": 427,
      "outputs": []
    },
    {
      "cell_type": "code",
      "metadata": {
        "id": "UA4pX-VXm0pb"
      },
      "source": [
        "df_challenger = pd.read_csv('/content/challenger.csv')"
      ],
      "execution_count": 428,
      "outputs": []
    },
    {
      "cell_type": "markdown",
      "metadata": {
        "id": "Q9mV_gCHqbjs"
      },
      "source": [
        "Dicionario dos dados\n",
        "\n",
        "| Coluna | Descrição |\n",
        "| ------ | --------- |\n",
        "| desgate | Quantidade de vezes que ocorreu stress térmico | \n",
        "| temperatura| Temperatura em °F|\n",
        "| pressão| Pressão de verificação de vazamento |\n",
        "| t | id do teste de lançamento |\n",
        "\n"
      ]
    },
    {
      "cell_type": "code",
      "metadata": {
        "colab": {
          "base_uri": "https://localhost:8080/",
          "height": 771
        },
        "id": "ZuN8ZlBjQl8i",
        "outputId": "0e48265b-39ea-4218-f6f9-a71d0b7053f6"
      },
      "source": [
        "df_challenger"
      ],
      "execution_count": 429,
      "outputs": [
        {
          "output_type": "execute_result",
          "data": {
            "text/html": [
              "<div>\n",
              "<style scoped>\n",
              "    .dataframe tbody tr th:only-of-type {\n",
              "        vertical-align: middle;\n",
              "    }\n",
              "\n",
              "    .dataframe tbody tr th {\n",
              "        vertical-align: top;\n",
              "    }\n",
              "\n",
              "    .dataframe thead th {\n",
              "        text-align: right;\n",
              "    }\n",
              "</style>\n",
              "<table border=\"1\" class=\"dataframe\">\n",
              "  <thead>\n",
              "    <tr style=\"text-align: right;\">\n",
              "      <th></th>\n",
              "      <th>Unnamed: 0</th>\n",
              "      <th>desgaste</th>\n",
              "      <th>temperatura</th>\n",
              "      <th>pressão</th>\n",
              "      <th>t</th>\n",
              "    </tr>\n",
              "  </thead>\n",
              "  <tbody>\n",
              "    <tr>\n",
              "      <th>0</th>\n",
              "      <td>1</td>\n",
              "      <td>0</td>\n",
              "      <td>66</td>\n",
              "      <td>50</td>\n",
              "      <td>1</td>\n",
              "    </tr>\n",
              "    <tr>\n",
              "      <th>1</th>\n",
              "      <td>2</td>\n",
              "      <td>1</td>\n",
              "      <td>70</td>\n",
              "      <td>50</td>\n",
              "      <td>2</td>\n",
              "    </tr>\n",
              "    <tr>\n",
              "      <th>2</th>\n",
              "      <td>3</td>\n",
              "      <td>0</td>\n",
              "      <td>69</td>\n",
              "      <td>50</td>\n",
              "      <td>3</td>\n",
              "    </tr>\n",
              "    <tr>\n",
              "      <th>3</th>\n",
              "      <td>4</td>\n",
              "      <td>0</td>\n",
              "      <td>68</td>\n",
              "      <td>50</td>\n",
              "      <td>4</td>\n",
              "    </tr>\n",
              "    <tr>\n",
              "      <th>4</th>\n",
              "      <td>5</td>\n",
              "      <td>0</td>\n",
              "      <td>67</td>\n",
              "      <td>50</td>\n",
              "      <td>5</td>\n",
              "    </tr>\n",
              "    <tr>\n",
              "      <th>5</th>\n",
              "      <td>6</td>\n",
              "      <td>0</td>\n",
              "      <td>72</td>\n",
              "      <td>50</td>\n",
              "      <td>6</td>\n",
              "    </tr>\n",
              "    <tr>\n",
              "      <th>6</th>\n",
              "      <td>7</td>\n",
              "      <td>0</td>\n",
              "      <td>73</td>\n",
              "      <td>100</td>\n",
              "      <td>7</td>\n",
              "    </tr>\n",
              "    <tr>\n",
              "      <th>7</th>\n",
              "      <td>8</td>\n",
              "      <td>0</td>\n",
              "      <td>70</td>\n",
              "      <td>100</td>\n",
              "      <td>8</td>\n",
              "    </tr>\n",
              "    <tr>\n",
              "      <th>8</th>\n",
              "      <td>9</td>\n",
              "      <td>1</td>\n",
              "      <td>57</td>\n",
              "      <td>200</td>\n",
              "      <td>9</td>\n",
              "    </tr>\n",
              "    <tr>\n",
              "      <th>9</th>\n",
              "      <td>10</td>\n",
              "      <td>1</td>\n",
              "      <td>63</td>\n",
              "      <td>200</td>\n",
              "      <td>10</td>\n",
              "    </tr>\n",
              "    <tr>\n",
              "      <th>10</th>\n",
              "      <td>11</td>\n",
              "      <td>1</td>\n",
              "      <td>70</td>\n",
              "      <td>200</td>\n",
              "      <td>11</td>\n",
              "    </tr>\n",
              "    <tr>\n",
              "      <th>11</th>\n",
              "      <td>12</td>\n",
              "      <td>0</td>\n",
              "      <td>78</td>\n",
              "      <td>200</td>\n",
              "      <td>12</td>\n",
              "    </tr>\n",
              "    <tr>\n",
              "      <th>12</th>\n",
              "      <td>13</td>\n",
              "      <td>0</td>\n",
              "      <td>67</td>\n",
              "      <td>200</td>\n",
              "      <td>13</td>\n",
              "    </tr>\n",
              "    <tr>\n",
              "      <th>13</th>\n",
              "      <td>14</td>\n",
              "      <td>2</td>\n",
              "      <td>53</td>\n",
              "      <td>200</td>\n",
              "      <td>14</td>\n",
              "    </tr>\n",
              "    <tr>\n",
              "      <th>14</th>\n",
              "      <td>15</td>\n",
              "      <td>0</td>\n",
              "      <td>67</td>\n",
              "      <td>200</td>\n",
              "      <td>15</td>\n",
              "    </tr>\n",
              "    <tr>\n",
              "      <th>15</th>\n",
              "      <td>16</td>\n",
              "      <td>0</td>\n",
              "      <td>75</td>\n",
              "      <td>200</td>\n",
              "      <td>16</td>\n",
              "    </tr>\n",
              "    <tr>\n",
              "      <th>16</th>\n",
              "      <td>17</td>\n",
              "      <td>0</td>\n",
              "      <td>70</td>\n",
              "      <td>200</td>\n",
              "      <td>17</td>\n",
              "    </tr>\n",
              "    <tr>\n",
              "      <th>17</th>\n",
              "      <td>18</td>\n",
              "      <td>0</td>\n",
              "      <td>81</td>\n",
              "      <td>200</td>\n",
              "      <td>18</td>\n",
              "    </tr>\n",
              "    <tr>\n",
              "      <th>18</th>\n",
              "      <td>19</td>\n",
              "      <td>0</td>\n",
              "      <td>76</td>\n",
              "      <td>200</td>\n",
              "      <td>19</td>\n",
              "    </tr>\n",
              "    <tr>\n",
              "      <th>19</th>\n",
              "      <td>20</td>\n",
              "      <td>0</td>\n",
              "      <td>79</td>\n",
              "      <td>200</td>\n",
              "      <td>20</td>\n",
              "    </tr>\n",
              "    <tr>\n",
              "      <th>20</th>\n",
              "      <td>21</td>\n",
              "      <td>0</td>\n",
              "      <td>75</td>\n",
              "      <td>200</td>\n",
              "      <td>21</td>\n",
              "    </tr>\n",
              "    <tr>\n",
              "      <th>21</th>\n",
              "      <td>22</td>\n",
              "      <td>0</td>\n",
              "      <td>76</td>\n",
              "      <td>200</td>\n",
              "      <td>22</td>\n",
              "    </tr>\n",
              "    <tr>\n",
              "      <th>22</th>\n",
              "      <td>23</td>\n",
              "      <td>1</td>\n",
              "      <td>58</td>\n",
              "      <td>200</td>\n",
              "      <td>23</td>\n",
              "    </tr>\n",
              "  </tbody>\n",
              "</table>\n",
              "</div>"
            ],
            "text/plain": [
              "    Unnamed: 0  desgaste  temperatura  pressão   t\n",
              "0            1         0           66       50   1\n",
              "1            2         1           70       50   2\n",
              "2            3         0           69       50   3\n",
              "3            4         0           68       50   4\n",
              "4            5         0           67       50   5\n",
              "5            6         0           72       50   6\n",
              "6            7         0           73      100   7\n",
              "7            8         0           70      100   8\n",
              "8            9         1           57      200   9\n",
              "9           10         1           63      200  10\n",
              "10          11         1           70      200  11\n",
              "11          12         0           78      200  12\n",
              "12          13         0           67      200  13\n",
              "13          14         2           53      200  14\n",
              "14          15         0           67      200  15\n",
              "15          16         0           75      200  16\n",
              "16          17         0           70      200  17\n",
              "17          18         0           81      200  18\n",
              "18          19         0           76      200  19\n",
              "19          20         0           79      200  20\n",
              "20          21         0           75      200  21\n",
              "21          22         0           76      200  22\n",
              "22          23         1           58      200  23"
            ]
          },
          "metadata": {},
          "execution_count": 429
        }
      ]
    },
    {
      "cell_type": "code",
      "metadata": {
        "colab": {
          "base_uri": "https://localhost:8080/",
          "height": 300
        },
        "id": "6LYOU7bZnRVo",
        "outputId": "1be396c2-3f35-4ab4-adc5-591d1c0f2de9"
      },
      "source": [
        "df_challenger.describe()"
      ],
      "execution_count": 430,
      "outputs": [
        {
          "output_type": "execute_result",
          "data": {
            "text/html": [
              "<div>\n",
              "<style scoped>\n",
              "    .dataframe tbody tr th:only-of-type {\n",
              "        vertical-align: middle;\n",
              "    }\n",
              "\n",
              "    .dataframe tbody tr th {\n",
              "        vertical-align: top;\n",
              "    }\n",
              "\n",
              "    .dataframe thead th {\n",
              "        text-align: right;\n",
              "    }\n",
              "</style>\n",
              "<table border=\"1\" class=\"dataframe\">\n",
              "  <thead>\n",
              "    <tr style=\"text-align: right;\">\n",
              "      <th></th>\n",
              "      <th>Unnamed: 0</th>\n",
              "      <th>desgaste</th>\n",
              "      <th>temperatura</th>\n",
              "      <th>pressão</th>\n",
              "      <th>t</th>\n",
              "    </tr>\n",
              "  </thead>\n",
              "  <tbody>\n",
              "    <tr>\n",
              "      <th>count</th>\n",
              "      <td>23.00000</td>\n",
              "      <td>23.000000</td>\n",
              "      <td>23.000000</td>\n",
              "      <td>23.000000</td>\n",
              "      <td>23.00000</td>\n",
              "    </tr>\n",
              "    <tr>\n",
              "      <th>mean</th>\n",
              "      <td>12.00000</td>\n",
              "      <td>0.304348</td>\n",
              "      <td>69.565217</td>\n",
              "      <td>152.173913</td>\n",
              "      <td>12.00000</td>\n",
              "    </tr>\n",
              "    <tr>\n",
              "      <th>std</th>\n",
              "      <td>6.78233</td>\n",
              "      <td>0.558796</td>\n",
              "      <td>7.057080</td>\n",
              "      <td>68.221332</td>\n",
              "      <td>6.78233</td>\n",
              "    </tr>\n",
              "    <tr>\n",
              "      <th>min</th>\n",
              "      <td>1.00000</td>\n",
              "      <td>0.000000</td>\n",
              "      <td>53.000000</td>\n",
              "      <td>50.000000</td>\n",
              "      <td>1.00000</td>\n",
              "    </tr>\n",
              "    <tr>\n",
              "      <th>25%</th>\n",
              "      <td>6.50000</td>\n",
              "      <td>0.000000</td>\n",
              "      <td>67.000000</td>\n",
              "      <td>75.000000</td>\n",
              "      <td>6.50000</td>\n",
              "    </tr>\n",
              "    <tr>\n",
              "      <th>50%</th>\n",
              "      <td>12.00000</td>\n",
              "      <td>0.000000</td>\n",
              "      <td>70.000000</td>\n",
              "      <td>200.000000</td>\n",
              "      <td>12.00000</td>\n",
              "    </tr>\n",
              "    <tr>\n",
              "      <th>75%</th>\n",
              "      <td>17.50000</td>\n",
              "      <td>0.500000</td>\n",
              "      <td>75.000000</td>\n",
              "      <td>200.000000</td>\n",
              "      <td>17.50000</td>\n",
              "    </tr>\n",
              "    <tr>\n",
              "      <th>max</th>\n",
              "      <td>23.00000</td>\n",
              "      <td>2.000000</td>\n",
              "      <td>81.000000</td>\n",
              "      <td>200.000000</td>\n",
              "      <td>23.00000</td>\n",
              "    </tr>\n",
              "  </tbody>\n",
              "</table>\n",
              "</div>"
            ],
            "text/plain": [
              "       Unnamed: 0   desgaste  temperatura     pressão         t\n",
              "count    23.00000  23.000000    23.000000   23.000000  23.00000\n",
              "mean     12.00000   0.304348    69.565217  152.173913  12.00000\n",
              "std       6.78233   0.558796     7.057080   68.221332   6.78233\n",
              "min       1.00000   0.000000    53.000000   50.000000   1.00000\n",
              "25%       6.50000   0.000000    67.000000   75.000000   6.50000\n",
              "50%      12.00000   0.000000    70.000000  200.000000  12.00000\n",
              "75%      17.50000   0.500000    75.000000  200.000000  17.50000\n",
              "max      23.00000   2.000000    81.000000  200.000000  23.00000"
            ]
          },
          "metadata": {},
          "execution_count": 430
        }
      ]
    },
    {
      "cell_type": "code",
      "metadata": {
        "id": "miL7DHi1nSF2"
      },
      "source": [
        "df_challenger = df_challenger.drop(columns='Unnamed: 0')"
      ],
      "execution_count": 431,
      "outputs": []
    },
    {
      "cell_type": "code",
      "metadata": {
        "id": "NDt2ywZlgbft"
      },
      "source": [
        "df_challenger.rename(columns={'pressão':'pressao'}, \n",
        "                     inplace=True)"
      ],
      "execution_count": 432,
      "outputs": []
    },
    {
      "cell_type": "code",
      "metadata": {
        "id": "UDM5ePERtWr1"
      },
      "source": [
        "def create_dependent_variable(df : pd.core.frame.DataFrame) -> pd.core.frame.DataFrame:\n",
        "  df.loc[df['desgaste'] >= 1, 'falha'] = int(1)\n",
        "  df.loc[df['desgaste'] == 0, 'falha'] = int(0)"
      ],
      "execution_count": 433,
      "outputs": []
    },
    {
      "cell_type": "code",
      "metadata": {
        "id": "hz2JN2bGu5eg"
      },
      "source": [
        "create_dependent_variable(df_challenger)"
      ],
      "execution_count": 434,
      "outputs": []
    },
    {
      "cell_type": "code",
      "metadata": {
        "colab": {
          "base_uri": "https://localhost:8080/",
          "height": 542
        },
        "id": "2hhl3wW41s0w",
        "outputId": "23f9ec2d-5430-4755-f7bf-23c45e1c5516"
      },
      "source": [
        "import plotly.express as px\n",
        "\n",
        "\n",
        "fig = px.scatter(df_challenger, y=\"falha\", x=\"temperatura\", color=\"temperatura\")\n",
        "fig.update_traces(marker_size=10)\n",
        "fig.show()"
      ],
      "execution_count": 435,
      "outputs": [
        {
          "output_type": "display_data",
          "data": {
            "text/html": [
              "<html>\n",
              "<head><meta charset=\"utf-8\" /></head>\n",
              "<body>\n",
              "    <div>\n",
              "            <script src=\"https://cdnjs.cloudflare.com/ajax/libs/mathjax/2.7.5/MathJax.js?config=TeX-AMS-MML_SVG\"></script><script type=\"text/javascript\">if (window.MathJax) {MathJax.Hub.Config({SVG: {font: \"STIX-Web\"}});}</script>\n",
              "                <script type=\"text/javascript\">window.PlotlyConfig = {MathJaxConfig: 'local'};</script>\n",
              "        <script src=\"https://cdn.plot.ly/plotly-latest.min.js\"></script>    \n",
              "            <div id=\"7152c0d1-2fca-411d-bb18-b165def9d942\" class=\"plotly-graph-div\" style=\"height:525px; width:100%;\"></div>\n",
              "            <script type=\"text/javascript\">\n",
              "                \n",
              "                    window.PLOTLYENV=window.PLOTLYENV || {};\n",
              "                    \n",
              "                if (document.getElementById(\"7152c0d1-2fca-411d-bb18-b165def9d942\")) {\n",
              "                    Plotly.newPlot(\n",
              "                        '7152c0d1-2fca-411d-bb18-b165def9d942',\n",
              "                        [{\"hoverlabel\": {\"namelength\": 0}, \"hovertemplate\": \"temperatura=%{marker.color}<br>falha=%{y}\", \"legendgroup\": \"\", \"marker\": {\"color\": [66, 70, 69, 68, 67, 72, 73, 70, 57, 63, 70, 78, 67, 53, 67, 75, 70, 81, 76, 79, 75, 76, 58], \"coloraxis\": \"coloraxis\", \"size\": 10, \"symbol\": \"circle\"}, \"mode\": \"markers\", \"name\": \"\", \"showlegend\": false, \"type\": \"scatter\", \"x\": [66, 70, 69, 68, 67, 72, 73, 70, 57, 63, 70, 78, 67, 53, 67, 75, 70, 81, 76, 79, 75, 76, 58], \"xaxis\": \"x\", \"y\": [0.0, 1.0, 0.0, 0.0, 0.0, 0.0, 0.0, 0.0, 1.0, 1.0, 1.0, 0.0, 0.0, 1.0, 0.0, 0.0, 0.0, 0.0, 0.0, 0.0, 0.0, 0.0, 1.0], \"yaxis\": \"y\"}],\n",
              "                        {\"coloraxis\": {\"colorbar\": {\"title\": {\"text\": \"temperatura\"}}, \"colorscale\": [[0.0, \"#0d0887\"], [0.1111111111111111, \"#46039f\"], [0.2222222222222222, \"#7201a8\"], [0.3333333333333333, \"#9c179e\"], [0.4444444444444444, \"#bd3786\"], [0.5555555555555556, \"#d8576b\"], [0.6666666666666666, \"#ed7953\"], [0.7777777777777778, \"#fb9f3a\"], [0.8888888888888888, \"#fdca26\"], [1.0, \"#f0f921\"]]}, \"legend\": {\"tracegroupgap\": 0}, \"margin\": {\"t\": 60}, \"template\": {\"data\": {\"bar\": [{\"error_x\": {\"color\": \"#2a3f5f\"}, \"error_y\": {\"color\": \"#2a3f5f\"}, \"marker\": {\"line\": {\"color\": \"#E5ECF6\", \"width\": 0.5}}, \"type\": \"bar\"}], \"barpolar\": [{\"marker\": {\"line\": {\"color\": \"#E5ECF6\", \"width\": 0.5}}, \"type\": \"barpolar\"}], \"carpet\": [{\"aaxis\": {\"endlinecolor\": \"#2a3f5f\", \"gridcolor\": \"white\", \"linecolor\": \"white\", \"minorgridcolor\": \"white\", \"startlinecolor\": \"#2a3f5f\"}, \"baxis\": {\"endlinecolor\": \"#2a3f5f\", \"gridcolor\": \"white\", \"linecolor\": \"white\", \"minorgridcolor\": \"white\", \"startlinecolor\": \"#2a3f5f\"}, \"type\": \"carpet\"}], \"choropleth\": [{\"colorbar\": {\"outlinewidth\": 0, \"ticks\": \"\"}, \"type\": \"choropleth\"}], \"contour\": [{\"colorbar\": {\"outlinewidth\": 0, \"ticks\": \"\"}, \"colorscale\": [[0.0, \"#0d0887\"], [0.1111111111111111, \"#46039f\"], [0.2222222222222222, \"#7201a8\"], [0.3333333333333333, \"#9c179e\"], [0.4444444444444444, \"#bd3786\"], [0.5555555555555556, \"#d8576b\"], [0.6666666666666666, \"#ed7953\"], [0.7777777777777778, \"#fb9f3a\"], [0.8888888888888888, \"#fdca26\"], [1.0, \"#f0f921\"]], \"type\": \"contour\"}], \"contourcarpet\": [{\"colorbar\": {\"outlinewidth\": 0, \"ticks\": \"\"}, \"type\": \"contourcarpet\"}], \"heatmap\": [{\"colorbar\": {\"outlinewidth\": 0, \"ticks\": \"\"}, \"colorscale\": [[0.0, \"#0d0887\"], [0.1111111111111111, \"#46039f\"], [0.2222222222222222, \"#7201a8\"], [0.3333333333333333, \"#9c179e\"], [0.4444444444444444, \"#bd3786\"], [0.5555555555555556, \"#d8576b\"], [0.6666666666666666, \"#ed7953\"], [0.7777777777777778, \"#fb9f3a\"], [0.8888888888888888, \"#fdca26\"], [1.0, \"#f0f921\"]], \"type\": \"heatmap\"}], \"heatmapgl\": [{\"colorbar\": {\"outlinewidth\": 0, \"ticks\": \"\"}, \"colorscale\": [[0.0, \"#0d0887\"], [0.1111111111111111, \"#46039f\"], [0.2222222222222222, \"#7201a8\"], [0.3333333333333333, \"#9c179e\"], [0.4444444444444444, \"#bd3786\"], [0.5555555555555556, \"#d8576b\"], [0.6666666666666666, \"#ed7953\"], [0.7777777777777778, \"#fb9f3a\"], [0.8888888888888888, \"#fdca26\"], [1.0, \"#f0f921\"]], \"type\": \"heatmapgl\"}], \"histogram\": [{\"marker\": {\"colorbar\": {\"outlinewidth\": 0, \"ticks\": \"\"}}, \"type\": \"histogram\"}], \"histogram2d\": [{\"colorbar\": {\"outlinewidth\": 0, \"ticks\": \"\"}, \"colorscale\": [[0.0, \"#0d0887\"], [0.1111111111111111, \"#46039f\"], [0.2222222222222222, \"#7201a8\"], [0.3333333333333333, \"#9c179e\"], [0.4444444444444444, \"#bd3786\"], [0.5555555555555556, \"#d8576b\"], [0.6666666666666666, \"#ed7953\"], [0.7777777777777778, \"#fb9f3a\"], [0.8888888888888888, \"#fdca26\"], [1.0, \"#f0f921\"]], \"type\": \"histogram2d\"}], \"histogram2dcontour\": [{\"colorbar\": {\"outlinewidth\": 0, \"ticks\": \"\"}, \"colorscale\": [[0.0, \"#0d0887\"], [0.1111111111111111, \"#46039f\"], [0.2222222222222222, \"#7201a8\"], [0.3333333333333333, \"#9c179e\"], [0.4444444444444444, \"#bd3786\"], [0.5555555555555556, \"#d8576b\"], [0.6666666666666666, \"#ed7953\"], [0.7777777777777778, \"#fb9f3a\"], [0.8888888888888888, \"#fdca26\"], [1.0, \"#f0f921\"]], \"type\": \"histogram2dcontour\"}], \"mesh3d\": [{\"colorbar\": {\"outlinewidth\": 0, \"ticks\": \"\"}, \"type\": \"mesh3d\"}], \"parcoords\": [{\"line\": {\"colorbar\": {\"outlinewidth\": 0, \"ticks\": \"\"}}, \"type\": \"parcoords\"}], \"pie\": [{\"automargin\": true, \"type\": \"pie\"}], \"scatter\": [{\"marker\": {\"colorbar\": {\"outlinewidth\": 0, \"ticks\": \"\"}}, \"type\": \"scatter\"}], \"scatter3d\": [{\"line\": {\"colorbar\": {\"outlinewidth\": 0, \"ticks\": \"\"}}, \"marker\": {\"colorbar\": {\"outlinewidth\": 0, \"ticks\": \"\"}}, \"type\": \"scatter3d\"}], \"scattercarpet\": [{\"marker\": {\"colorbar\": {\"outlinewidth\": 0, \"ticks\": \"\"}}, \"type\": \"scattercarpet\"}], \"scattergeo\": [{\"marker\": {\"colorbar\": {\"outlinewidth\": 0, \"ticks\": \"\"}}, \"type\": \"scattergeo\"}], \"scattergl\": [{\"marker\": {\"colorbar\": {\"outlinewidth\": 0, \"ticks\": \"\"}}, \"type\": \"scattergl\"}], \"scattermapbox\": [{\"marker\": {\"colorbar\": {\"outlinewidth\": 0, \"ticks\": \"\"}}, \"type\": \"scattermapbox\"}], \"scatterpolar\": [{\"marker\": {\"colorbar\": {\"outlinewidth\": 0, \"ticks\": \"\"}}, \"type\": \"scatterpolar\"}], \"scatterpolargl\": [{\"marker\": {\"colorbar\": {\"outlinewidth\": 0, \"ticks\": \"\"}}, \"type\": \"scatterpolargl\"}], \"scatterternary\": [{\"marker\": {\"colorbar\": {\"outlinewidth\": 0, \"ticks\": \"\"}}, \"type\": \"scatterternary\"}], \"surface\": [{\"colorbar\": {\"outlinewidth\": 0, \"ticks\": \"\"}, \"colorscale\": [[0.0, \"#0d0887\"], [0.1111111111111111, \"#46039f\"], [0.2222222222222222, \"#7201a8\"], [0.3333333333333333, \"#9c179e\"], [0.4444444444444444, \"#bd3786\"], [0.5555555555555556, \"#d8576b\"], [0.6666666666666666, \"#ed7953\"], [0.7777777777777778, \"#fb9f3a\"], [0.8888888888888888, \"#fdca26\"], [1.0, \"#f0f921\"]], \"type\": \"surface\"}], \"table\": [{\"cells\": {\"fill\": {\"color\": \"#EBF0F8\"}, \"line\": {\"color\": \"white\"}}, \"header\": {\"fill\": {\"color\": \"#C8D4E3\"}, \"line\": {\"color\": \"white\"}}, \"type\": \"table\"}]}, \"layout\": {\"annotationdefaults\": {\"arrowcolor\": \"#2a3f5f\", \"arrowhead\": 0, \"arrowwidth\": 1}, \"coloraxis\": {\"colorbar\": {\"outlinewidth\": 0, \"ticks\": \"\"}}, \"colorscale\": {\"diverging\": [[0, \"#8e0152\"], [0.1, \"#c51b7d\"], [0.2, \"#de77ae\"], [0.3, \"#f1b6da\"], [0.4, \"#fde0ef\"], [0.5, \"#f7f7f7\"], [0.6, \"#e6f5d0\"], [0.7, \"#b8e186\"], [0.8, \"#7fbc41\"], [0.9, \"#4d9221\"], [1, \"#276419\"]], \"sequential\": [[0.0, \"#0d0887\"], [0.1111111111111111, \"#46039f\"], [0.2222222222222222, \"#7201a8\"], [0.3333333333333333, \"#9c179e\"], [0.4444444444444444, \"#bd3786\"], [0.5555555555555556, \"#d8576b\"], [0.6666666666666666, \"#ed7953\"], [0.7777777777777778, \"#fb9f3a\"], [0.8888888888888888, \"#fdca26\"], [1.0, \"#f0f921\"]], \"sequentialminus\": [[0.0, \"#0d0887\"], [0.1111111111111111, \"#46039f\"], [0.2222222222222222, \"#7201a8\"], [0.3333333333333333, \"#9c179e\"], [0.4444444444444444, \"#bd3786\"], [0.5555555555555556, \"#d8576b\"], [0.6666666666666666, \"#ed7953\"], [0.7777777777777778, \"#fb9f3a\"], [0.8888888888888888, \"#fdca26\"], [1.0, \"#f0f921\"]]}, \"colorway\": [\"#636efa\", \"#EF553B\", \"#00cc96\", \"#ab63fa\", \"#FFA15A\", \"#19d3f3\", \"#FF6692\", \"#B6E880\", \"#FF97FF\", \"#FECB52\"], \"font\": {\"color\": \"#2a3f5f\"}, \"geo\": {\"bgcolor\": \"white\", \"lakecolor\": \"white\", \"landcolor\": \"#E5ECF6\", \"showlakes\": true, \"showland\": true, \"subunitcolor\": \"white\"}, \"hoverlabel\": {\"align\": \"left\"}, \"hovermode\": \"closest\", \"mapbox\": {\"style\": \"light\"}, \"paper_bgcolor\": \"white\", \"plot_bgcolor\": \"#E5ECF6\", \"polar\": {\"angularaxis\": {\"gridcolor\": \"white\", \"linecolor\": \"white\", \"ticks\": \"\"}, \"bgcolor\": \"#E5ECF6\", \"radialaxis\": {\"gridcolor\": \"white\", \"linecolor\": \"white\", \"ticks\": \"\"}}, \"scene\": {\"xaxis\": {\"backgroundcolor\": \"#E5ECF6\", \"gridcolor\": \"white\", \"gridwidth\": 2, \"linecolor\": \"white\", \"showbackground\": true, \"ticks\": \"\", \"zerolinecolor\": \"white\"}, \"yaxis\": {\"backgroundcolor\": \"#E5ECF6\", \"gridcolor\": \"white\", \"gridwidth\": 2, \"linecolor\": \"white\", \"showbackground\": true, \"ticks\": \"\", \"zerolinecolor\": \"white\"}, \"zaxis\": {\"backgroundcolor\": \"#E5ECF6\", \"gridcolor\": \"white\", \"gridwidth\": 2, \"linecolor\": \"white\", \"showbackground\": true, \"ticks\": \"\", \"zerolinecolor\": \"white\"}}, \"shapedefaults\": {\"line\": {\"color\": \"#2a3f5f\"}}, \"ternary\": {\"aaxis\": {\"gridcolor\": \"white\", \"linecolor\": \"white\", \"ticks\": \"\"}, \"baxis\": {\"gridcolor\": \"white\", \"linecolor\": \"white\", \"ticks\": \"\"}, \"bgcolor\": \"#E5ECF6\", \"caxis\": {\"gridcolor\": \"white\", \"linecolor\": \"white\", \"ticks\": \"\"}}, \"title\": {\"x\": 0.05}, \"xaxis\": {\"automargin\": true, \"gridcolor\": \"white\", \"linecolor\": \"white\", \"ticks\": \"\", \"title\": {\"standoff\": 15}, \"zerolinecolor\": \"white\", \"zerolinewidth\": 2}, \"yaxis\": {\"automargin\": true, \"gridcolor\": \"white\", \"linecolor\": \"white\", \"ticks\": \"\", \"title\": {\"standoff\": 15}, \"zerolinecolor\": \"white\", \"zerolinewidth\": 2}}}, \"xaxis\": {\"anchor\": \"y\", \"domain\": [0.0, 1.0], \"title\": {\"text\": \"temperatura\"}}, \"yaxis\": {\"anchor\": \"x\", \"domain\": [0.0, 1.0], \"title\": {\"text\": \"falha\"}}},\n",
              "                        {\"responsive\": true}\n",
              "                    ).then(function(){\n",
              "                            \n",
              "var gd = document.getElementById('7152c0d1-2fca-411d-bb18-b165def9d942');\n",
              "var x = new MutationObserver(function (mutations, observer) {{\n",
              "        var display = window.getComputedStyle(gd).display;\n",
              "        if (!display || display === 'none') {{\n",
              "            console.log([gd, 'removed!']);\n",
              "            Plotly.purge(gd);\n",
              "            observer.disconnect();\n",
              "        }}\n",
              "}});\n",
              "\n",
              "// Listen for the removal of the full notebook cells\n",
              "var notebookContainer = gd.closest('#notebook-container');\n",
              "if (notebookContainer) {{\n",
              "    x.observe(notebookContainer, {childList: true});\n",
              "}}\n",
              "\n",
              "// Listen for the clearing of the current output cell\n",
              "var outputEl = gd.closest('.output');\n",
              "if (outputEl) {{\n",
              "    x.observe(outputEl, {childList: true});\n",
              "}}\n",
              "\n",
              "                        })\n",
              "                };\n",
              "                \n",
              "            </script>\n",
              "        </div>\n",
              "</body>\n",
              "</html>"
            ]
          },
          "metadata": {}
        }
      ]
    },
    {
      "cell_type": "code",
      "metadata": {
        "colab": {
          "base_uri": "https://localhost:8080/"
        },
        "id": "6GIplUSJaYhn",
        "outputId": "bc15eac7-c4c3-4e5c-a064-b4e3513fa7e9"
      },
      "source": [
        "logit = Logit.from_formula('falha ~ temperatura + pressao',data=df_challenger).fit()"
      ],
      "execution_count": 436,
      "outputs": [
        {
          "output_type": "stream",
          "name": "stdout",
          "text": [
            "Optimization terminated successfully.\n",
            "         Current function value: 0.305063\n",
            "         Iterations 8\n"
          ]
        }
      ]
    },
    {
      "cell_type": "markdown",
      "metadata": {
        "id": "y18AgOdXSskv"
      },
      "source": [
        "### Analisando a significancia dos parametros\n",
        "\n",
        "Abaixo podemos pressão não passou no teste z, ou seja, não se mostrou significante. Vamos tentar estimar nosso modelo sem a variavel pressão e comparar.\n",
        "\n",
        "### AIC e BIC \n",
        "Vamos usar AIC e BIC como referencia para verificar qual modelo seria melhor, com ou sem a variavel pressão.\n",
        "\n",
        "Tanto o AIC (Akaike Information Criterion) quanto o BIC (Bayesian Information Criterion) são métodos para mensurar a qualidade do modelo, com a diferença que o BIC penaliza mais pela complexidade. Em ambos, quanto menor, melhor.\n",
        "\n",
        "AIC é dado por `-2/N * LL + 2 * k/N` \n",
        "\n",
        "BIC é dado por `-2 * LL + log(N) * k`\n",
        "\n",
        "onde **N** é a quantidade de amostras, **LL** é o log-likelihood do modelo e **k** é a quantidade de parametros (incluindo o alpha). \n"
      ]
    },
    {
      "cell_type": "code",
      "metadata": {
        "colab": {
          "base_uri": "https://localhost:8080/",
          "height": 277
        },
        "id": "4zgi_lMCjdMv",
        "outputId": "5d2ce19f-ceb0-4cad-9466-5c8f2094450e"
      },
      "source": [
        "logit.summary2() "
      ],
      "execution_count": 437,
      "outputs": [
        {
          "output_type": "execute_result",
          "data": {
            "text/html": [
              "<table class=\"simpletable\">\n",
              "<tr>\n",
              "        <td>Model:</td>              <td>Logit</td>      <td>Pseudo R-squared:</td>   <td>0.468</td>  \n",
              "</tr>\n",
              "<tr>\n",
              "  <td>Dependent Variable:</td>       <td>falha</td>            <td>AIC:</td>         <td>20.0329</td> \n",
              "</tr>\n",
              "<tr>\n",
              "         <td>Date:</td>        <td>2021-09-06 19:48</td>       <td>BIC:</td>         <td>23.4394</td> \n",
              "</tr>\n",
              "<tr>\n",
              "   <td>No. Observations:</td>         <td>23</td>         <td>Log-Likelihood:</td>   <td>-7.0164</td> \n",
              "</tr>\n",
              "<tr>\n",
              "       <td>Df Model:</td>              <td>2</td>            <td>LL-Null:</td>       <td>-13.201</td> \n",
              "</tr>\n",
              "<tr>\n",
              "     <td>Df Residuals:</td>           <td>20</td>          <td>LLR p-value:</td>    <td>0.0020606</td>\n",
              "</tr>\n",
              "<tr>\n",
              "      <td>Converged:</td>           <td>1.0000</td>           <td>Scale:</td>        <td>1.0000</td>  \n",
              "</tr>\n",
              "<tr>\n",
              "    <td>No. Iterations:</td>        <td>8.0000</td>              <td></td>              <td></td>     \n",
              "</tr>\n",
              "</table>\n",
              "<table class=\"simpletable\">\n",
              "<tr>\n",
              "       <td></td>        <th>Coef.</th>  <th>Std.Err.</th>    <th>z</th>     <th>P>|z|</th> <th>[0.025</th>  <th>0.975]</th> \n",
              "</tr>\n",
              "<tr>\n",
              "  <th>Intercept</th>   <td>21.8436</td>  <td>11.9365</td> <td>1.8300</td>  <td>0.0673</td> <td>-1.5514</td> <td>45.2387</td>\n",
              "</tr>\n",
              "<tr>\n",
              "  <th>temperatura</th> <td>-0.3501</td>  <td>0.1730</td>  <td>-2.0239</td> <td>0.0430</td> <td>-0.6891</td> <td>-0.0111</td>\n",
              "</tr>\n",
              "<tr>\n",
              "  <th>pressao</th>     <td>0.0060</td>   <td>0.0097</td>  <td>0.6161</td>  <td>0.5378</td> <td>-0.0131</td> <td>0.0251</td> \n",
              "</tr>\n",
              "</table>"
            ],
            "text/plain": [
              "<class 'statsmodels.iolib.summary2.Summary'>\n",
              "\"\"\"\n",
              "                         Results: Logit\n",
              "================================================================\n",
              "Model:              Logit            Pseudo R-squared: 0.468    \n",
              "Dependent Variable: falha            AIC:              20.0329  \n",
              "Date:               2021-09-06 19:48 BIC:              23.4394  \n",
              "No. Observations:   23               Log-Likelihood:   -7.0164  \n",
              "Df Model:           2                LL-Null:          -13.201  \n",
              "Df Residuals:       20               LLR p-value:      0.0020606\n",
              "Converged:          1.0000           Scale:            1.0000   \n",
              "No. Iterations:     8.0000                                      \n",
              "-----------------------------------------------------------------\n",
              "              Coef.   Std.Err.     z     P>|z|    [0.025   0.975]\n",
              "-----------------------------------------------------------------\n",
              "Intercept    21.8436   11.9365   1.8300  0.0673  -1.5514  45.2387\n",
              "temperatura  -0.3501    0.1730  -2.0239  0.0430  -0.6891  -0.0111\n",
              "pressao       0.0060    0.0097   0.6161  0.5378  -0.0131   0.0251\n",
              "================================================================\n",
              "\n",
              "\"\"\""
            ]
          },
          "metadata": {},
          "execution_count": 437
        }
      ]
    },
    {
      "cell_type": "code",
      "metadata": {
        "colab": {
          "base_uri": "https://localhost:8080/",
          "height": 308
        },
        "id": "rRkiMOXua3tI",
        "outputId": "6e6a4a7b-3c87-4c4e-f4d0-2eccee9d1887"
      },
      "source": [
        "logit_sem_pressao = Logit.from_formula('falha ~ temperatura',data=df_challenger).fit()\n",
        "logit_sem_pressao.summary2()"
      ],
      "execution_count": 438,
      "outputs": [
        {
          "output_type": "stream",
          "name": "stdout",
          "text": [
            "Optimization terminated successfully.\n",
            "         Current function value: 0.313604\n",
            "         Iterations 8\n"
          ]
        },
        {
          "output_type": "execute_result",
          "data": {
            "text/html": [
              "<table class=\"simpletable\">\n",
              "<tr>\n",
              "        <td>Model:</td>              <td>Logit</td>      <td>Pseudo R-squared:</td>    <td>0.454</td>  \n",
              "</tr>\n",
              "<tr>\n",
              "  <td>Dependent Variable:</td>       <td>falha</td>            <td>AIC:</td>          <td>18.4258</td> \n",
              "</tr>\n",
              "<tr>\n",
              "         <td>Date:</td>        <td>2021-09-06 19:48</td>       <td>BIC:</td>          <td>20.6968</td> \n",
              "</tr>\n",
              "<tr>\n",
              "   <td>No. Observations:</td>         <td>23</td>         <td>Log-Likelihood:</td>    <td>-7.2129</td> \n",
              "</tr>\n",
              "<tr>\n",
              "       <td>Df Model:</td>              <td>1</td>            <td>LL-Null:</td>        <td>-13.201</td> \n",
              "</tr>\n",
              "<tr>\n",
              "     <td>Df Residuals:</td>           <td>21</td>          <td>LLR p-value:</td>    <td>0.00053874</td>\n",
              "</tr>\n",
              "<tr>\n",
              "      <td>Converged:</td>           <td>1.0000</td>           <td>Scale:</td>         <td>1.0000</td>  \n",
              "</tr>\n",
              "<tr>\n",
              "    <td>No. Iterations:</td>        <td>8.0000</td>              <td></td>               <td></td>     \n",
              "</tr>\n",
              "</table>\n",
              "<table class=\"simpletable\">\n",
              "<tr>\n",
              "       <td></td>        <th>Coef.</th>  <th>Std.Err.</th>    <th>z</th>     <th>P>|z|</th> <th>[0.025</th>  <th>0.975]</th> \n",
              "</tr>\n",
              "<tr>\n",
              "  <th>Intercept</th>   <td>23.7750</td>  <td>11.8204</td> <td>2.0113</td>  <td>0.0443</td> <td>0.6074</td>  <td>46.9425</td>\n",
              "</tr>\n",
              "<tr>\n",
              "  <th>temperatura</th> <td>-0.3667</td>  <td>0.1752</td>  <td>-2.0934</td> <td>0.0363</td> <td>-0.7100</td> <td>-0.0234</td>\n",
              "</tr>\n",
              "</table>"
            ],
            "text/plain": [
              "<class 'statsmodels.iolib.summary2.Summary'>\n",
              "\"\"\"\n",
              "                         Results: Logit\n",
              "=================================================================\n",
              "Model:              Logit            Pseudo R-squared: 0.454     \n",
              "Dependent Variable: falha            AIC:              18.4258   \n",
              "Date:               2021-09-06 19:48 BIC:              20.6968   \n",
              "No. Observations:   23               Log-Likelihood:   -7.2129   \n",
              "Df Model:           1                LL-Null:          -13.201   \n",
              "Df Residuals:       21               LLR p-value:      0.00053874\n",
              "Converged:          1.0000           Scale:            1.0000    \n",
              "No. Iterations:     8.0000                                       \n",
              "------------------------------------------------------------------\n",
              "               Coef.   Std.Err.     z     P>|z|    [0.025   0.975]\n",
              "------------------------------------------------------------------\n",
              "Intercept     23.7750   11.8204   2.0113  0.0443   0.6074  46.9425\n",
              "temperatura   -0.3667    0.1752  -2.0934  0.0363  -0.7100  -0.0234\n",
              "=================================================================\n",
              "\n",
              "\"\"\""
            ]
          },
          "metadata": {},
          "execution_count": 438
        }
      ]
    },
    {
      "cell_type": "markdown",
      "metadata": {
        "id": "yqkk3PeNj0ZB"
      },
      "source": [
        "Vou dar uma extrapoladinha no predict, só para entendermos o quanto a baixa temperatura influencia na nossa variavel y. No dia do lançamento da challenger, estava ~36 °F, uma temperatura em que o Challenger nunca havia sido testado. Claro que já existia um alarme sobre a temperatura daquele dia, e foi completamente ignorada. \n",
        "\n",
        "Bom, para a temperatura de 36°F, havia uma probabilidade de 0.999974 de ocorrer falha no voo"
      ]
    },
    {
      "cell_type": "code",
      "metadata": {
        "colab": {
          "base_uri": "https://localhost:8080/",
          "height": 143
        },
        "id": "I0PEtsWHE4fQ",
        "outputId": "7a26a0f2-ee78-4809-e1ad-125a59d6235a"
      },
      "source": [
        "# Create the pandas DataFrame to predict \n",
        "\n",
        "data = [[36,200], [53,50], [81,100]]\n",
        "df = pd.DataFrame(data, columns = ['temperatura','pressao'])\n",
        "df"
      ],
      "execution_count": 439,
      "outputs": [
        {
          "output_type": "execute_result",
          "data": {
            "text/html": [
              "<div>\n",
              "<style scoped>\n",
              "    .dataframe tbody tr th:only-of-type {\n",
              "        vertical-align: middle;\n",
              "    }\n",
              "\n",
              "    .dataframe tbody tr th {\n",
              "        vertical-align: top;\n",
              "    }\n",
              "\n",
              "    .dataframe thead th {\n",
              "        text-align: right;\n",
              "    }\n",
              "</style>\n",
              "<table border=\"1\" class=\"dataframe\">\n",
              "  <thead>\n",
              "    <tr style=\"text-align: right;\">\n",
              "      <th></th>\n",
              "      <th>temperatura</th>\n",
              "      <th>pressao</th>\n",
              "    </tr>\n",
              "  </thead>\n",
              "  <tbody>\n",
              "    <tr>\n",
              "      <th>0</th>\n",
              "      <td>36</td>\n",
              "      <td>200</td>\n",
              "    </tr>\n",
              "    <tr>\n",
              "      <th>1</th>\n",
              "      <td>53</td>\n",
              "      <td>50</td>\n",
              "    </tr>\n",
              "    <tr>\n",
              "      <th>2</th>\n",
              "      <td>81</td>\n",
              "      <td>100</td>\n",
              "    </tr>\n",
              "  </tbody>\n",
              "</table>\n",
              "</div>"
            ],
            "text/plain": [
              "   temperatura  pressao\n",
              "0           36      200\n",
              "1           53       50\n",
              "2           81      100"
            ]
          },
          "metadata": {},
          "execution_count": 439
        }
      ]
    },
    {
      "cell_type": "code",
      "metadata": {
        "colab": {
          "base_uri": "https://localhost:8080/"
        },
        "id": "Mrx6iNwRFJMm",
        "outputId": "a54c363d-2ee3-46c1-8af2-0215f97ce31f"
      },
      "source": [
        "#Modelo sem considerar a variavel pressao\n",
        "logit_sem_pressao.predict(exog=df['temperatura'])"
      ],
      "execution_count": 440,
      "outputs": [
        {
          "output_type": "execute_result",
          "data": {
            "text/plain": [
              "0    0.999974\n",
              "1    0.987129\n",
              "2    0.002657\n",
              "dtype: float64"
            ]
          },
          "metadata": {},
          "execution_count": 440
        }
      ]
    },
    {
      "cell_type": "code",
      "metadata": {
        "colab": {
          "base_uri": "https://localhost:8080/"
        },
        "id": "aeojB7eHjWxr",
        "outputId": "b5fb0bcf-7db7-44b3-eaa6-a4fb3f705d35"
      },
      "source": [
        "#Considerando a variavel pressao\n",
        "logit.predict(exog=df[['temperatura','pressao']])"
      ],
      "execution_count": 441,
      "outputs": [
        {
          "output_type": "execute_result",
          "data": {
            "text/plain": [
              "0    0.999971\n",
              "1    0.973111\n",
              "2    0.002695\n",
              "dtype: float64"
            ]
          },
          "metadata": {},
          "execution_count": 441
        }
      ]
    },
    {
      "cell_type": "markdown",
      "metadata": {
        "id": "bQZ9E_8xsYdm"
      },
      "source": [
        "### Conclusões\n",
        "\n",
        "A variavel temperatura era mesmo estatisticamente significante para o modelo, e a variavel pressão não passou no teste Z. Deixei os dois modelos para fins de revisão.\n",
        "\n",
        "De acordo com as probabilidades, quanto menor a temperatura maior era a chance de falha. Fizemos extrapolação apenas para reforçar falha em função de temperatura, mas mesmo sem extrapolação, para o dia mais frio nos testes, a chance era bem alta de dar falhas também. \n",
        "\n",
        " Objetivo era refazer uma atividade feita em aula no R para Python, para melhorar no R e no Python e reforçar o aprendizado teórico.\n",
        "\n"
      ]
    },
    {
      "cell_type": "markdown",
      "metadata": {
        "id": "bNLqAu0Mpqi2"
      },
      "source": [
        "### Referencias\n",
        "\n",
        "https://pt.wikipedia.org/wiki/STS-51-L"
      ]
    }
  ]
}